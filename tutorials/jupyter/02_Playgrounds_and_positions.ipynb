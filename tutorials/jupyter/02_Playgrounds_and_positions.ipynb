{
 "cells": [
  {
   "cell_type": "markdown",
   "metadata": {
    "collapsed": true
   },
   "source": [
    "# Buiding playgrounds\n",
    "\n",
    "In this tutorial, we will see how to build playgrounds with differennt rooms, and how to place objects randomly in the playgrounds."
   ]
  },
  {
   "cell_type": "code",
   "execution_count": 1,
   "metadata": {},
   "outputs": [],
   "source": [
    "%matplotlib inline\n",
    "import matplotlib.pyplot as plt"
   ]
  },
  {
   "cell_type": "code",
   "execution_count": 2,
   "metadata": {},
   "outputs": [
    {
     "name": "stdout",
     "output_type": "stream",
     "text": [
      "pygame 1.9.6\nHello from the pygame community. https://www.pygame.org/contribute.html\nLoading chipmunk for Linux (64bit) [/home/michael/.local/lib/python3.6/site-packages/pymunk/libchipmunk.so]\n"
     ]
    },
    {
     "data": {
      "image/png": "[encoded data removed]",
      "text/plain": [
       "<Figure size 432x288 with 1 Axes>"
      ]
     },
     "metadata": {},
     "output_type": "display_data"
    }
   ],
   "source": [
    "from simple_playgrounds.playgrounds import SingleRoom\n",
    "from simple_playgrounds import Engine\n",
    "\n",
    "my_playground = SingleRoom(size=(300, 300))\n",
    "\n",
    "# we use the option screen=True to use a keyboard controlled agent later on.\n",
    "engine = Engine(time_limit=10000, playground= my_playground, screen=True)\n",
    "\n",
    "engine.display_full_scene()"
   ]
  },
  {
   "cell_type": "markdown",
   "metadata": {},
   "source": [
    "If the initial position of a scene element have to be specified.\n",
    "Instead of a position, you can define an area where the position will be sampled uniformly."
   ]
  },
  {
   "cell_type": "code",
   "execution_count": 3,
   "metadata": {},
   "outputs": [],
   "source": [
    "from simple_playgrounds.entities.scene_elements import Basic\n",
    "from simple_playgrounds.utils import PositionAreaSampler\n",
    "\n",
    "area = PositionAreaSampler((50, 50), area_shape='circle', radius=30)\n",
    "for i in range(10):\n",
    "    circular_object = Basic(area, physical_shape='circle', radius=5, texture = [120, 230, 0])\n",
    "    my_playground.add_scene_element_without_overlapping(circular_object)\n",
    "engine.display_full_scene()"
   ]
  },
  {
   "cell_type": "markdown",
   "metadata": {},
   "source": [
    "Other possibe shapes are rectangle, or gaussian:"
   ]
  },
  {
   "cell_type": "code",
   "execution_count": 4,
   "metadata": {},
   "outputs": [],
   "source": [
    "# gaussian area\n",
    "area = PositionAreaSampler((150, 150), area_shape='gaussian', radius = 80, variance=100)\n",
    "for i in range(10):\n",
    "    circular_object = Basic(area, physical_shape='circle', radius=5, texture = [120, 0, 240])\n",
    "    my_playground.add_scene_element_without_overlapping(circular_object)\n",
    "\n",
    "area = PositionAreaSampler((150, 50), area_shape='rectangle', width_length=(70, 40))\n",
    "for i in range(10):\n",
    "    circular_object = Basic(area, physical_shape='circle', radius=5, texture = [120, 230, 0])\n",
    "    my_playground.add_scene_element_without_overlapping(circular_object)\n",
    "\n",
    "engine.display_full_scene()"
   ]
  },
  {
   "cell_type": "markdown",
   "metadata": {},
   "source": [
    "If we reset the environment, the object appear in different locations."
   ]
  },
  {
   "cell_type": "code",
   "execution_count": 5,
   "metadata": {},
   "outputs": [],
   "source": [
    "my_playground.reset()\n",
    "engine.display_full_scene()"
   ]
  },
  {
   "cell_type": "code",
   "execution_count": 6,
   "metadata": {},
   "outputs": [],
   "source": [
    "engine.terminate()"
   ]
  },
  {
   "cell_type": "markdown",
   "metadata": {},
   "source": [
    "Other more advanced playgrounds are available: Linear Rooms and Connected Rooms 2D"
   ]
  },
  {
   "cell_type": "code",
   "execution_count": 7,
   "metadata": {},
   "outputs": [],
   "source": [
    "from simple_playgrounds.playgrounds import LinearRooms, ConnectedRooms2D\n",
    "from simple_playgrounds import Engine\n",
    "\n",
    "my_playground = LinearRooms(size=(400, 200), n_rooms=2, doorstep_type='middle')\n",
    "engine = Engine(time_limit=10000, playground= my_playground, screen=True)\n",
    "engine.display_full_scene()"
   ]
  },
  {
   "cell_type": "markdown",
   "metadata": {},
   "source": [
    "Once a playground is created, you can access the different doorsteps, and easily add a door."
   ]
  },
  {
   "cell_type": "code",
   "execution_count": 8,
   "metadata": {},
   "outputs": [
    {
     "name": "stdout",
     "output_type": "stream",
     "text": [
      "{((0, 0), (1, 0)): (200.0, 85.4266163481814, 'vertical')}\n"
     ]
    }
   ],
   "source": [
    "# Doorstep randomly on the wall\n",
    "engine.terminate()\n",
    "my_playground = LinearRooms(size=(400, 200), n_rooms=2, doorstep_type='random')\n",
    "engine = Engine(time_limit=10000, playground= my_playground, screen=True)\n",
    "engine.display_full_scene()\n",
    "print(my_playground.doorsteps)"
   ]
  },
  {
   "cell_type": "code",
   "execution_count": 9,
   "metadata": {},
   "outputs": [],
   "source": [
    "# Generate a door for a doorstep\n",
    "door = my_playground.add_door(((0,0), (1,0)))\n",
    "engine.display_full_scene()"
   ]
  },
  {
   "cell_type": "code",
   "execution_count": 10,
   "metadata": {},
   "outputs": [
    {
     "name": "stdout",
     "output_type": "stream",
     "text": [
      "{((0, 0), (1, 0)): (133.33333333333334, 103.03258076028719, 'vertical'), ((0, 0), (0, 1)): (77.72811912580113, 133.33333333333334, 'horizontal'), ((0, 1), (1, 1)): (133.33333333333334, 188.77701973461075, 'vertical'), ((0, 1), (0, 2)): (97.00749098079952, 266.6666666666667, 'horizontal'), ((0, 2), (1, 2)): (133.33333333333334, 308.3127349223856, 'vertical'), ((1, 0), (2, 0)): (266.6666666666667, 62.672089666953156, 'vertical'), ((1, 0), (1, 1)): (170.3974894956536, 133.33333333333334, 'horizontal'), ((1, 1), (2, 1)): (266.6666666666667, 188.0884482302262, 'vertical'), ((1, 1), (1, 2)): (226.26320222540173, 266.6666666666667, 'horizontal'), ((1, 2), (2, 2)): (266.6666666666667, 344.96220860599055, 'vertical'), ((2, 0), (2, 1)): (346.67014795931067, 133.33333333333334, 'horizontal'), ((2, 1), (2, 2)): (287.58522825714965, 266.6666666666667, 'horizontal')}\n"
     ]
    }
   ],
   "source": [
    "engine.terminate()\n",
    "my_playground = ConnectedRooms2D(size=(400, 400), n_rooms=(3,3), doorstep_type='random')\n",
    "engine = Engine(time_limit=10000, playground= my_playground, screen=True)\n",
    "engine.display_full_scene()\n",
    "print(my_playground.doorsteps)"
   ]
  },
  {
   "cell_type": "markdown",
   "metadata": {},
   "source": [
    "Let say that we want an object to always appear in the middle-left room."
   ]
  },
  {
   "cell_type": "code",
   "execution_count": 11,
   "metadata": {},
   "outputs": [
    {
     "data": {
      "text/plain": [
       "True"
      ]
     },
     "execution_count": 11,
     "metadata": {},
     "output_type": "execute_result"
    }
   ],
   "source": [
    "position_center, shape = my_playground.area_rooms[(2,1)]\n",
    "area = PositionAreaSampler(center=position_center, area_shape='rectangle', width_length=shape )\n",
    "circular_object = Basic(area, physical_shape='circle', radius=5, texture = [120, 230, 0])\n",
    "my_playground.add_scene_element_without_overlapping(circular_object)"
   ]
  },
  {
   "cell_type": "code",
   "execution_count": 12,
   "metadata": {},
   "outputs": [],
   "source": [
    "my_playground.reset()\n",
    "engine.display_full_scene()\n"
   ]
  },
  {
   "cell_type": "code",
   "execution_count": 12,
   "metadata": {},
   "outputs": [],
   "source": [
    "engine.terminate()"
   ]
  },
  {
   "cell_type": "markdown",
   "metadata": {},
   "source": [
    "Different wall types are available: classic, light, dark, colorful.\n",
    "Nothing prevents you from creating your own using wall_texture."
   ]
  },
  {
   "cell_type": "code",
   "execution_count": 14,
   "metadata": {},
   "outputs": [],
   "source": [
    "my_playground = SingleRoom(size=(300, 300), wall_type='light')\n",
    "engine = Engine(time_limit=10000, playground= my_playground, screen=True)\n",
    "engine.display_full_scene()"
   ]
  },
  {
   "cell_type": "code",
   "execution_count": 15,
   "metadata": {},
   "outputs": [],
   "source": [
    "engine.terminate()\n",
    "my_playground = SingleRoom(size=(300, 300), wall_type='dark')\n",
    "engine = Engine(time_limit=10000, playground= my_playground, screen=True)\n",
    "engine.display_full_scene()"
   ]
  },
  {
   "cell_type": "code",
   "execution_count": 16,
   "metadata": {},
   "outputs": [],
   "source": [
    "engine.terminate()\n",
    "my_playground = SingleRoom(size=(300, 300), wall_type='colorful')\n",
    "engine = Engine(time_limit=10000, playground= my_playground, screen=True)\n",
    "engine.display_full_scene()"
   ]
  },
  {
   "cell_type": "code",
   "execution_count": 17,
   "metadata": {},
   "outputs": [],
   "source": [
    "engine.terminate()\n",
    "my_playground = ConnectedRooms2D(size=(600, 600), n_rooms=(4,4), wall_type='colorful')\n",
    "engine = Engine(time_limit=10000, playground= my_playground, screen=True)\n",
    "engine.display_full_scene()"
   ]
  },
  {
   "cell_type": "code",
   "execution_count": null,
   "metadata": {},
   "outputs": [],
   "source": []
  }
 ],
 "metadata": {
  "kernelspec": {
   "display_name": "Python 2",
   "language": "python",
   "name": "python2"
  },
  "language_info": {
   "codemirror_mode": {
    "name": "ipython",
    "version": 2
   },
   "file_extension": ".py",
   "mimetype": "text/x-python",
   "name": "python",
   "nbconvert_exporter": "python",
   "pygments_lexer": "ipython2",
   "version": "2.7.6"
  }
 },
 "nbformat": 4,
 "nbformat_minor": 0
}
