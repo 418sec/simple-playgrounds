{
 "cells": [
  {
   "cell_type": "markdown",
   "metadata": {
    "collapsed": true
   },
   "source": [
    "# Agents\n",
    "\n",
    "Agents are composed of body parts and sensors.\n",
    "\n",
    "We are going to attach sensors to this agent."
   ]
  },
  {
   "cell_type": "code",
   "execution_count": 7,
   "metadata": {},
   "outputs": [],
   "source": [
    "%matplotlib inline\n",
    "import matplotlib.pyplot as plt\n",
    "import cv2\n",
    "from simple_playgrounds.playgrounds import SingleRoom\n",
    "from simple_playgrounds import Engine\n",
    "from simple_playgrounds.controllers import Keyboard\n",
    "from simple_playgrounds.entities.agents import BaseAgent, HeadAgent\n"
   ]
  },
  {
   "cell_type": "code",
   "execution_count": 8,
   "metadata": {},
   "outputs": [],
   "source": [
    "my_playground = SingleRoom(size=(200, 200))\n",
    "my_agent = BaseAgent(controller=Keyboard())\n",
    "\n",
    "# we use the option screen=True to use a keyboard controlled agent later on.\n",
    "engine = Engine(time_limit=1000000, agents=my_agent, playground= my_playground, screen=True)\n",
    "\n",
    "engine.display_full_scene()"
   ]
  },
  {
   "cell_type": "markdown",
   "metadata": {},
   "source": [
    "Now lets add a scene element to the playground, and a sensor to the agent."
   ]
  },
  {
   "cell_type": "code",
   "execution_count": 9,
   "metadata": {},
   "outputs": [],
   "source": [
    "from simple_playgrounds.entities.scene_elements import Basic\n",
    "\n",
    "circular_object = Basic((30, 30, 0), physical_shape='circle', radius=10, texture = [120, 230, 0])\n",
    "my_playground.add_scene_element(circular_object)\n",
    "engine.display_full_scene()\n",
    "\n",
    "from simple_playgrounds.entities.agents.sensors import RgbSensor\n",
    "my_agent.add_sensor(RgbSensor(my_agent.base_platform))\n",
    "\n",
    "while engine.game_on:\n",
    "    \n",
    "    engine.display_full_scene()\n",
    "\n",
    "    actions = {}\n",
    "    for agent in engine.agents:\n",
    "        actions[agent.name] = agent.controller.generate_actions()\n",
    "\n",
    "    engine.step(actions)\n",
    "    engine.update_observations()\n",
    "    \n",
    "    cv2.imshow('sensor', engine.generate_sensor_image(my_agent))\n",
    "    cv2.waitKey(20)\n",
    "    \n",
    "engine.terminate()\n",
    "cv2.destroyAllWindows()"
   ]
  },
  {
   "cell_type": "markdown",
   "metadata": {},
   "source": [
    "Ok Great! Now let's build an agent with a head, and attach a depth sensor to this head.\n",
    "You can control the head with Keys n and m."
   ]
  },
  {
   "cell_type": "code",
   "execution_count": 16,
   "metadata": {},
   "outputs": [],
   "source": [
    "from simple_playgrounds.entities.agents.sensors import DepthSensor\n",
    "\n",
    "my_playground.reset()\n",
    "my_playground.remove_agent(my_agent)\n",
    "\n",
    "my_agent = HeadAgent(controller=Keyboard())\n",
    "my_agent.add_sensor(DepthSensor(my_agent.head, invisible_elements=my_agent.parts))\n",
    "my_playground.add_agent(my_agent)\n",
    "\n",
    "engine = Engine(time_limit=100000, playground= my_playground, screen=True)\n",
    "engine.display_full_scene()\n"
   ]
  },
  {
   "cell_type": "code",
   "execution_count": 17,
   "metadata": {},
   "outputs": [],
   "source": [
    "while engine.game_on:\n",
    "    \n",
    "    engine.display_full_scene()\n",
    "\n",
    "    actions = {}\n",
    "    for agent in engine.agents:\n",
    "        actions[agent.name] = agent.controller.generate_actions()\n",
    "\n",
    "    engine.step(actions)\n",
    "    engine.update_observations()\n",
    "    \n",
    "    cv2.imshow('sensor', engine.generate_sensor_image(my_agent))\n",
    "    cv2.waitKey(20)\n",
    "    \n",
    "engine.terminate()\n",
    "cv2.destroyAllWindows()"
   ]
  },
  {
   "cell_type": "markdown",
   "metadata": {},
   "source": [
    "We could also attach a sensor to a scene element. It would act as a camera, that the agent has access to."
   ]
  },
  {
   "cell_type": "code",
   "execution_count": 18,
   "metadata": {},
   "outputs": [],
   "source": [
    "my_playground.reset()\n",
    "my_playground.remove_agent(my_agent)\n",
    "\n",
    "my_agent = HeadAgent(controller=Keyboard())\n",
    "my_agent.add_sensor(DepthSensor(anchor= circular_object))\n",
    "my_playground.add_agent(my_agent)\n",
    "\n",
    "engine = Engine(time_limit=100000, playground= my_playground, screen=True)\n",
    "engine.display_full_scene()"
   ]
  },
  {
   "cell_type": "code",
   "execution_count": 19,
   "metadata": {},
   "outputs": [
    {
     "ename": "KeyboardInterrupt",
     "evalue": "",
     "traceback": [
      "\u001b[0;31m---------------------------------------------------------------------------\u001b[0m",
      "\u001b[0;31mKeyboardInterrupt\u001b[0m                         Traceback (most recent call last)",
      "\u001b[0;32m<ipython-input-19-17279c1ab271>\u001b[0m in \u001b[0;36m<module>\u001b[0;34m\u001b[0m\n\u001b[1;32m     11\u001b[0m \u001b[0;34m\u001b[0m\u001b[0m\n\u001b[1;32m     12\u001b[0m     \u001b[0mcv2\u001b[0m\u001b[0;34m.\u001b[0m\u001b[0mimshow\u001b[0m\u001b[0;34m(\u001b[0m\u001b[0;34m'sensor'\u001b[0m\u001b[0;34m,\u001b[0m \u001b[0mengine\u001b[0m\u001b[0;34m.\u001b[0m\u001b[0mgenerate_sensor_image\u001b[0m\u001b[0;34m(\u001b[0m\u001b[0mmy_agent\u001b[0m\u001b[0;34m)\u001b[0m\u001b[0;34m)\u001b[0m\u001b[0;34m\u001b[0m\u001b[0;34m\u001b[0m\u001b[0m\n\u001b[0;32m---> 13\u001b[0;31m     \u001b[0mcv2\u001b[0m\u001b[0;34m.\u001b[0m\u001b[0mwaitKey\u001b[0m\u001b[0;34m(\u001b[0m\u001b[0;36m20\u001b[0m\u001b[0;34m)\u001b[0m\u001b[0;34m\u001b[0m\u001b[0;34m\u001b[0m\u001b[0m\n\u001b[0m\u001b[1;32m     14\u001b[0m \u001b[0;34m\u001b[0m\u001b[0m\n\u001b[1;32m     15\u001b[0m \u001b[0mengine\u001b[0m\u001b[0;34m.\u001b[0m\u001b[0mterminate\u001b[0m\u001b[0;34m(\u001b[0m\u001b[0;34m)\u001b[0m\u001b[0;34m\u001b[0m\u001b[0;34m\u001b[0m\u001b[0m\n",
      "\u001b[0;31mKeyboardInterrupt\u001b[0m: "
     ],
     "output_type": "error"
    }
   ],
   "source": [
    "while engine.game_on:\n",
    "    \n",
    "    engine.display_full_scene()\n",
    "\n",
    "    actions = {}\n",
    "    for agent in engine.agents:\n",
    "        actions[agent.name] = agent.controller.generate_actions()\n",
    "\n",
    "    engine.step(actions)\n",
    "    engine.update_observations()\n",
    "    \n",
    "    cv2.imshow('sensor', engine.generate_sensor_image(my_agent))\n",
    "    cv2.waitKey(20)\n",
    "    \n",
    "engine.terminate()\n",
    "cv2.destroyAllWindows()"
   ]
  },
  {
   "cell_type": "code",
   "execution_count": null,
   "metadata": {},
   "outputs": [],
   "source": []
  }
 ],
 "metadata": {
  "kernelspec": {
   "display_name": "Python 2",
   "language": "python",
   "name": "python2"
  },
  "language_info": {
   "codemirror_mode": {
    "name": "ipython",
    "version": 2
   },
   "file_extension": ".py",
   "mimetype": "text/x-python",
   "name": "python",
   "nbconvert_exporter": "python",
   "pygments_lexer": "ipython2",
   "version": "2.7.6"
  }
 },
 "nbformat": 4,
 "nbformat_minor": 0
}
