{
 "cells": [
  {
   "cell_type": "markdown",
   "metadata": {
    "collapsed": true
   },
   "source": [
    "# Entities\n",
    "\n",
    "In this tutorial, we will introduce different scene elements."
   ]
  },
  {
   "cell_type": "code",
   "execution_count": 1,
   "metadata": {},
   "outputs": [],
   "source": [
    "%matplotlib inline\n",
    "import matplotlib.pyplot as plt"
   ]
  },
  {
   "cell_type": "code",
   "execution_count": 2,
   "metadata": {
    "collapsed": false
   },
   "outputs": [
    {
     "name": "stdout",
     "output_type": "stream",
     "text": [
      "pygame 1.9.6\nHello from the pygame community. https://www.pygame.org/contribute.html\nLoading chipmunk for Linux (64bit) [/home/michael/.local/lib/python3.6/site-packages/pymunk/libchipmunk.so]\n"
     ]
    }
   ],
   "source": [
    "from simple_playgrounds.playgrounds import SingleRoom\n",
    "from simple_playgrounds import Engine\n",
    "\n",
    "my_playground = SingleRoom(size=(100, 100))\n",
    "\n",
    "# we use the option replay=True to reset the environment if it terminates before time_limit.\n",
    "engine = Engine(time_limit=10000, playground= my_playground, screen=True, replay=True)\n",
    "\n",
    "engine.display_full_scene()"
   ]
  },
  {
   "cell_type": "markdown",
   "metadata": {},
   "source": [
    "## Contact Entities:\n",
    "\n",
    "Different entities react upon contact with an agent. Here are examples for Candy and VisibleEndGoal"
   ]
  },
  {
   "cell_type": "code",
   "execution_count": 3,
   "metadata": {},
   "outputs": [],
   "source": [
    "from simple_playgrounds.entities.scene_elements import VisibleEndGoal, Candy\n",
    "from simple_playgrounds.utils import PositionAreaSampler\n",
    "\n",
    "endgoal = VisibleEndGoal([20,20,0])\n",
    "my_playground.add_scene_element(endgoal)\n",
    "\n",
    "candy = Candy([70,70,0])\n",
    "my_playground.add_scene_element(candy)\n",
    "\n",
    "engine.display_full_scene()"
   ]
  },
  {
   "cell_type": "markdown",
   "metadata": {},
   "source": [
    "Now, we can add an agent and interact with the elements.\n",
    "If the agent touches the VisibleEndGoal, as we set the engine to restart when the playground reaches termination, the playgrond is reset."
   ]
  },
  {
   "cell_type": "code",
   "execution_count": 4,
   "metadata": {},
   "outputs": [],
   "source": [
    "from simple_playgrounds.controllers import Keyboard\n",
    "from simple_playgrounds.entities.agents import BaseAgent\n",
    "\n",
    "my_agent = BaseAgent(controller=Keyboard())\n",
    "my_playground.add_agent(my_agent)\n",
    "\n",
    "engine.run(with_screen=True, print_rewards = True)\n",
    "engine.terminate()"
   ]
  },
  {
   "cell_type": "markdown",
   "metadata": {},
   "source": [
    "## Interactive Scene Elements\n",
    "\n",
    "You can now explore different test environments that implement the usual SceneElements.\n",
    "Interact with them using A for activating, E for eating, and G for grasping.\n",
    "\n",
    "Try to bring the yellow coins to the orange vending machine, or the grey key to the purple chest."
   ]
  },
  {
   "cell_type": "code",
   "execution_count": 7,
   "metadata": {},
   "outputs": [],
   "source": [
    "# Interactive Scene Elements\n",
    "\n",
    "from simple_playgrounds.entities.agents import BaseInteractiveAgent\n",
    "from simple_playgrounds.playgrounds.collection.test import Interactives\n",
    "\n",
    "\n",
    "my_agent = BaseInteractiveAgent(controller=Keyboard())\n",
    "my_playground =Interactives()\n",
    "engine = Engine(my_playground, 10000, my_agent, replay=True, screen=True)\n",
    "\n",
    "engine.run(with_screen=True, print_rewards = True)\n",
    "engine.terminate()"
   ]
  },
  {
   "cell_type": "markdown",
   "metadata": {},
   "source": [
    "## Doors and switches\n",
    "\n",
    "Simple-playgrounds provides doors and switches to create complex mazes."
   ]
  },
  {
   "cell_type": "code",
   "execution_count": 9,
   "metadata": {},
   "outputs": [],
   "source": [
    "# Doors and switches Scene Elements\n",
    "\n",
    "from simple_playgrounds.playgrounds.collection.test import Doors\n",
    "\n",
    "\n",
    "my_agent = BaseInteractiveAgent(controller=Keyboard())\n",
    "my_playground =Doors()\n",
    "engine = Engine(my_playground, 10000, my_agent, replay=True, screen=True)\n",
    "\n",
    "engine.run(with_screen=True, print_rewards = True)\n",
    "engine.terminate()"
   ]
  },
  {
   "cell_type": "markdown",
   "metadata": {},
   "source": [
    "## Other test playgrounds\n",
    "\n",
    "You can pick other test playgrounds already available: Contacts, Basics, Graspables,Zones, Interactives, Conditioning, Doors, Proximity, Fields"
   ]
  },
  {
   "cell_type": "code",
   "execution_count": null,
   "metadata": {},
   "outputs": [],
   "source": []
  }
 ],
 "metadata": {
  "kernelspec": {
   "display_name": "Python 2",
   "language": "python",
   "name": "python2"
  },
  "language_info": {
   "codemirror_mode": {
    "name": "ipython",
    "version": 2
   },
   "file_extension": ".py",
   "mimetype": "text/x-python",
   "name": "python",
   "nbconvert_exporter": "python",
   "pygments_lexer": "ipython2",
   "version": "2.7.6"
  }
 },
 "nbformat": 4,
 "nbformat_minor": 0
}
