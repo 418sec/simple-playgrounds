{
 "cells": [
  {
   "cell_type": "markdown",
   "metadata": {
    "collapsed": true
   },
   "source": [
    "# Fields\n",
    "\n",
    "Fields allow you to define an area where certain Scene Elements will appear randomly\n",
    "This can be interesting in foraging scenario, where an agents move around to collect rewards."
   ]
  },
  {
   "cell_type": "code",
   "execution_count": 7,
   "metadata": {
    "collapsed": true
   },
   "outputs": [
    {
     "data": {
      "image/png": "[encoded data removed]",
      "text/plain": [
       "<Figure size 432x288 with 1 Axes>"
      ]
     },
     "metadata": {},
     "output_type": "display_data"
    }
   ],
   "source": [
    "from simple_playgrounds.playgrounds import SingleRoom\n",
    "from simple_playgrounds import Engine\n",
    "\n",
    "%matplotlib inline\n",
    "import matplotlib.pyplot as plt\n",
    "\n",
    "def plt_image(img):\n",
    "    plt.axis('off')\n",
    "    plt.imshow(img)\n",
    "    plt.show()\n",
    "    \n",
    "my_playground = SingleRoom(size=(200, 200))\n",
    "\n",
    "# we use the option screen=True to use a keyboard controlled agent later on.\n",
    "engine = Engine(time_limit=1000, playground= my_playground, screen=False, replay=True)\n",
    "\n",
    "plt_image(engine.generate_topdown_image(mode='plt'))"
   ]
  },
  {
   "cell_type": "markdown",
   "metadata": {},
   "source": [
    "Now that we have an empty playground, lets create a field that produces candies in the top-left area of the playground."
   ]
  },
  {
   "cell_type": "code",
   "execution_count": 8,
   "metadata": {
    "collapsed": true
   },
   "outputs": [
    {
     "data": {
      "text/plain": [
       "True"
      ]
     },
     "execution_count": 8,
     "metadata": {},
     "output_type": "execute_result"
    }
   ],
   "source": [
    "from simple_playgrounds.entities.scene_elements import Candy\n",
    "from simple_playgrounds.utils import PositionAreaSampler\n",
    "from simple_playgrounds.entities.field import Field\n",
    "\n",
    "area = PositionAreaSampler( center = (50, 150), area_shape='circle', radius= 30 )\n",
    "field = Field(probability=0.1, limit=10, entity_produced=Candy, production_area=area)\n",
    "my_playground.add_scene_element(field)"
   ]
  },
  {
   "cell_type": "markdown",
   "metadata": {},
   "source": [
    "Now we can let the playground run for some time, and see if the field produces candies.\n",
    "\n",
    "Run the following cell multiplt times."
   ]
  },
  {
   "cell_type": "code",
   "execution_count": 20,
   "metadata": {},
   "outputs": [
    {
     "data": {
      "image/png": "[encoded data removed]",
      "text/plain": [
       "<Figure size 432x288 with 1 Axes>"
      ]
     },
     "metadata": {},
     "output_type": "display_data"
    }
   ],
   "source": [
    "engine.run(steps = 10)\n",
    "\n",
    "plt_image(engine.generate_topdown_image(mode='plt'))"
   ]
  },
  {
   "cell_type": "code",
   "execution_count": 21,
   "metadata": {},
   "outputs": [],
   "source": [
    "engine.terminate()"
   ]
  },
  {
   "cell_type": "markdown",
   "metadata": {},
   "source": [
    "Finally, we can add an agent controlled by a keyboard.\n",
    "We see that the Candies are replaced little by little."
   ]
  },
  {
   "cell_type": "code",
   "execution_count": 22,
   "metadata": {
    "collapsed": true
   },
   "outputs": [],
   "source": [
    "from simple_playgrounds.controllers import Keyboard\n",
    "from simple_playgrounds.entities.agents import BaseAgent\n",
    "\n",
    "from simple_playgrounds.entities.scene_elements import Candy\n",
    "from simple_playgrounds.utils import PositionAreaSampler\n",
    "from simple_playgrounds.entities.field import Field\n",
    "\n",
    "my_playground = SingleRoom(size=(200, 200))\n",
    "engine = Engine(time_limit=10000, playground= my_playground, screen=True, replay=True)\n",
    "\n",
    "area = PositionAreaSampler( center = (100, 100), area_shape='circle', radius= 100 )\n",
    "field = Field(probability=0.1, limit=10, entity_produced=Candy, production_area=area)\n",
    "my_playground.add_scene_element(field)\n",
    "\n",
    "my_agent = BaseAgent(controller=Keyboard())\n",
    "my_playground.add_agent(my_agent)\n",
    "\n",
    "\n",
    "engine.run(with_screen=True)\n",
    "engine.terminate()\n"
   ]
  },
  {
   "cell_type": "markdown",
   "metadata": {},
   "source": [
    "You probably noticed that the field stops producing after some time.\n",
    "There is a total limit of total produced entities that can be set."
   ]
  },
  {
   "cell_type": "code",
   "execution_count": null,
   "metadata": {},
   "outputs": [],
   "source": []
  }
 ],
 "metadata": {
  "kernelspec": {
   "display_name": "Python 2",
   "language": "python",
   "name": "python2"
  },
  "language_info": {
   "codemirror_mode": {
    "name": "ipython",
    "version": 2
   },
   "file_extension": ".py",
   "mimetype": "text/x-python",
   "name": "python",
   "nbconvert_exporter": "python",
   "pygments_lexer": "ipython2",
   "version": "2.7.6"
  }
 },
 "nbformat": 4,
 "nbformat_minor": 0
}
