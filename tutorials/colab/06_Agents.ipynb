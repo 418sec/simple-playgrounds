{
 "cells": [
  {
   "cell_type": "markdown",
   "metadata": {
    "collapsed": true
   },
   "source": [
    "# Agents\n",
    "\n",
    "Agents are composed of body parts and sensors.\n",
    "We will use an already implemented agent composed of a Base and a Head.\n",
    "\n",
    "We are going to attach sensors to this agent."
   ]
  },
  {
   "cell_type": "code",
   "execution_count": 1,
   "metadata": {},
   "outputs": [
    {
     "name": "stdout",
     "output_type": "stream",
     "text": [
      "pygame 1.9.6\nHello from the pygame community. https://www.pygame.org/contribute.html\nLoading chipmunk for Linux (64bit) [/home/michael/.local/lib/python3.6/site-packages/pymunk/libchipmunk.so]\n"
     ]
    }
   ],
   "source": [
    "from simple_playgrounds.playgrounds import SingleRoom\n",
    "from simple_playgrounds import Engine\n",
    "from simple_playgrounds.controllers import Keyboard\n",
    "from simple_playgrounds.entities.agents import BaseAgent, HeadAgent\n",
    "\n",
    "# to display the sensors\n",
    "import cv2\n"
   ]
  },
  {
   "cell_type": "code",
   "execution_count": 2,
   "metadata": {},
   "outputs": [],
   "source": [
    "my_playground = SingleRoom(size=(200, 200))\n",
    "my_agent = HeadAgent(controller=Keyboard())\n",
    "\n",
    "# we use the option screen=True to use a keyboard controlled agent later on.\n",
    "engine = Engine(time_limit=1000000, agents=my_agent, playground= my_playground, screen=True)\n",
    "\n",
    "engine.display_full_scene()"
   ]
  },
  {
   "cell_type": "markdown",
   "metadata": {},
   "source": [
    "## Adding scene elements \n",
    "\n",
    "Now lets add some scene element to the playground, that the agent will be able to perceive."
   ]
  },
  {
   "cell_type": "code",
   "execution_count": 3,
   "metadata": {},
   "outputs": [],
   "source": [
    "from simple_playgrounds.entities.scene_elements import Basic\n",
    "\n",
    "circular_object = Basic((30, 30, 0.5),default_config_key='pentagon', graspable=True, mass = 10)\n",
    "my_playground.add_scene_element(circular_object)\n",
    "engine.display_full_scene()\n",
    "\n",
    "circular_object = Basic((30, 160, -0.5), physical_shape='circle', radius=10, texture = [120, 0, 230])\n",
    "my_playground.add_scene_element(circular_object)\n",
    "engine.display_full_scene()\n"
   ]
  },
  {
   "cell_type": "markdown",
   "metadata": {},
   "source": [
    "## Adding sensors to the agent \n",
    "\n",
    "Ok Great! Now we will add 2 rgb sensors: one attached to the head, one attached to the body.\n",
    "\n",
    "Note that the properties of the sensors can be changed with keyword arguments.\n",
    "\n",
    "Move the agent with keyboard arrows, and its head with n and m"
   ]
  },
  {
   "cell_type": "code",
   "execution_count": 4,
   "metadata": {},
   "outputs": [],
   "source": [
    "\n",
    "from simple_playgrounds.entities.agents.sensors import RgbSensor\n",
    "my_agent.add_sensor(RgbSensor(my_agent.head, invisible_elements=my_agent.parts, fov=180))\n",
    "my_agent.add_sensor(RgbSensor(my_agent.base_platform, invisible_elements=my_agent.parts, fov=270))\n",
    "\n",
    "while engine.game_on:\n",
    "    \n",
    "    engine.display_full_scene()\n",
    "\n",
    "    actions = {}\n",
    "    for agent in engine.agents:\n",
    "        actions[agent.name] = agent.controller.generate_actions()\n",
    "\n",
    "    engine.step(actions)\n",
    "    engine.update_observations()\n",
    "    \n",
    "    cv2.imshow('sensor', engine.generate_sensor_image(my_agent))\n",
    "    cv2.waitKey(20)\n",
    "    \n",
    "engine.terminate()\n",
    "cv2.destroyAllWindows()"
   ]
  },
  {
   "cell_type": "markdown",
   "metadata": {},
   "source": [
    "## Lets add all sensors and move around\n",
    "\n",
    "We load a test playground."
   ]
  },
  {
   "cell_type": "code",
   "execution_count": 5,
   "metadata": {
    "collapsed": true
   },
   "outputs": [],
   "source": [
    "from simple_playgrounds.playgrounds.collection.test import Basics\n",
    "from simple_playgrounds.entities.agents.sensors import RgbSensor, TopdownSensor, TouchSensor, LidarRays, DepthSensor, DistanceArraySensor\n",
    "\n",
    "my_playground = Basics()\n",
    "my_agent = BaseAgent(controller=Keyboard())\n",
    "\n",
    "# we use the option screen=True to use a keyboard controlled agent later on.\n",
    "engine = Engine(time_limit=1000000, agents=my_agent, playground= my_playground, screen=True)\n",
    "\n",
    "my_agent.add_sensor(RgbSensor(my_agent.base_platform))\n",
    "my_agent.add_sensor(DepthSensor(my_agent.base_platform))\n",
    "my_agent.add_sensor(TouchSensor(my_agent.base_platform, range=3))\n",
    "my_agent.add_sensor(DistanceArraySensor(my_agent.base_platform))\n",
    "my_agent.add_sensor(LidarRays(my_agent.base_platform, allow_duplicates=True))\n",
    "my_agent.add_sensor(TopdownSensor(my_agent.base_platform))\n",
    "\n",
    "while engine.game_on:\n",
    "    \n",
    "    engine.display_full_scene()\n",
    "\n",
    "    actions = {}\n",
    "    for agent in engine.agents:\n",
    "        actions[agent.name] = agent.controller.generate_actions()\n",
    "\n",
    "    engine.step(actions)\n",
    "    engine.update_observations()\n",
    "    \n",
    "    cv2.imshow('sensor', engine.generate_sensor_image(my_agent))\n",
    "    cv2.waitKey(20)\n",
    "    \n",
    "engine.terminate()\n",
    "cv2.destroyAllWindows()\n"
   ]
  },
  {
   "cell_type": "markdown",
   "metadata": {},
   "source": [
    "## Funny addition\n",
    "\n",
    "Sensors are quite generic, so we could in principle add one to a scene element.\n",
    "It would act as a camera, that the agent has access to.\n",
    "\n",
    "Here, we add a sensor to an object which is graspable."
   ]
  },
  {
   "cell_type": "code",
   "execution_count": 6,
   "metadata": {},
   "outputs": [],
   "source": [
    "from simple_playgrounds.entities.agents import BaseInteractiveAgent\n",
    "\n",
    "my_playground = Basics()\n",
    "my_agent = BaseInteractiveAgent(controller=Keyboard())\n",
    "\n",
    "# we use the option screen=True to use a keyboard controlled agent later on.\n",
    "engine = Engine(time_limit=1000000, agents=my_agent, playground= my_playground, screen=True)\n",
    "\n",
    "circular_object = Basic((30, 30, 0.5), physical_shape='circle', radius=10, texture = [120, 230, 0], graspable = True, mass=5)\n",
    "my_playground.add_scene_element(circular_object)\n",
    "\n",
    "camera = RgbSensor(circular_object)\n",
    "\n",
    "my_agent.add_sensor(camera)\n",
    "\n",
    "while engine.game_on:\n",
    "    \n",
    "    engine.display_full_scene()\n",
    "\n",
    "    actions = {}\n",
    "    for agent in engine.agents:\n",
    "        actions[agent.name] = agent.controller.generate_actions()\n",
    "\n",
    "    engine.step(actions)\n",
    "    engine.update_observations()\n",
    "    \n",
    "    cv2.imshow('sensor', engine.generate_sensor_image(my_agent))\n",
    "    cv2.waitKey(20)\n",
    "    \n",
    "engine.terminate()\n",
    "cv2.destroyAllWindows()\n"
   ]
  },
  {
   "cell_type": "code",
   "execution_count": null,
   "metadata": {},
   "outputs": [],
   "source": []
  }
 ],
 "metadata": {
  "kernelspec": {
   "display_name": "Python 2",
   "language": "python",
   "name": "python2"
  },
  "language_info": {
   "codemirror_mode": {
    "name": "ipython",
    "version": 2
   },
   "file_extension": ".py",
   "mimetype": "text/x-python",
   "name": "python",
   "nbconvert_exporter": "python",
   "pygments_lexer": "ipython2",
   "version": "2.7.6"
  }
 },
 "nbformat": 4,
 "nbformat_minor": 0
}
