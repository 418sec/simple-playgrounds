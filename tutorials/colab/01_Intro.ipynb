{
 "cells": [
  {
   "cell_type": "markdown",
   "metadata": {
    "collapsed": true
   },
   "source": [
    "# Introduction to Simple-playgrounds\n",
    "\n",
    "Welcome to Simple-playgrounds, a library that allows you to easily build environments for AI.\n",
    "\n",
    "First of all, we are going to create an empty playground and add a Scene Element in it.\n",
    "In order to run the playground, and display its contents, we are using a game engine."
   ]
  },
  {
   "cell_type": "code",
   "execution_count": 1,
   "metadata": {
    "collapsed": false
   },
   "outputs": [
    {
     "name": "stdout",
     "output_type": "stream",
     "text": [
      "pygame 1.9.6\nHello from the pygame community. https://www.pygame.org/contribute.html\nLoading chipmunk for Linux (64bit) [/home/michael/.local/lib/python3.6/site-packages/pymunk/libchipmunk.so]\n"
     ]
    }
   ],
   "source": [
    "from simple_playgrounds.playgrounds import SingleRoom\n",
    "from simple_playgrounds import Engine\n",
    "\n",
    "my_playground = SingleRoom(size=(150, 100))\n",
    "\n",
    "# we use the option screen=True to use a keyboard controlled agent later on.\n",
    "engine = Engine(time_limit=10000, playground= my_playground, screen=True)\n",
    "\n",
    "engine.display_full_scene()"
   ]
  },
  {
   "cell_type": "markdown",
   "metadata": {},
   "source": [
    "## Adding a scene element to the playground\n",
    "\n",
    "Now that we have an empty playground, we can add Scene Elements to it.\n",
    "Let's start simple, with a fixed circular object at coordinate (30, 30). Note that you always have to specify the orientation of the object, and here it will be 0."
   ]
  },
  {
   "cell_type": "code",
   "execution_count": 2,
   "metadata": {},
   "outputs": [],
   "source": [
    "from simple_playgrounds.entities.scene_elements import Basic\n",
    "\n",
    "circular_object = Basic((30, 30, 0), physical_shape='circle', radius=10, texture = [120, 230, 0])\n",
    "my_playground.add_scene_element(circular_object)\n",
    "engine.display_full_scene()"
   ]
  },
  {
   "cell_type": "markdown",
   "metadata": {},
   "source": [
    "## Using already existing configurations\n",
    "\n",
    "We can use already existing configurations for basic objects.\n",
    "Every parameter that we add as a keyword argument will overwrite the default parameter.\n",
    "\n",
    "As an exampe, we will make a new element which is movable.\n",
    "Note that movable objets require that you set a mass (duh)."
   ]
  },
  {
   "cell_type": "code",
   "execution_count": 3,
   "metadata": {},
   "outputs": [],
   "source": [
    "other_circular_object = Basic((120, 70, 0), default_config_key='circle', radius=5, mass=10, movable=True)\n",
    "my_playground.add_scene_element(other_circular_object)\n",
    "engine.display_full_scene()"
   ]
  },
  {
   "cell_type": "markdown",
   "metadata": {},
   "source": [
    "## Adding an agent and moving around\n",
    "\n",
    "Finally, we can add an agent controlled by a keyboard.\n",
    "This requires the creation of a pygame screen, and will work only on your local machine.\n",
    "If no initial position is set for the agent, it will appear in the center of the playground by default."
   ]
  },
  {
   "cell_type": "code",
   "execution_count": 4,
   "metadata": {},
   "outputs": [],
   "source": [
    "from simple_playgrounds.controllers import Keyboard\n",
    "from simple_playgrounds.entities.agents import BaseAgent\n",
    "\n",
    "my_agent = BaseAgent(controller=Keyboard())\n",
    "my_playground.add_agent(my_agent)\n",
    "\n",
    "engine.display_full_scene()"
   ]
  },
  {
   "cell_type": "markdown",
   "metadata": {},
   "source": [
    "## Runing the simulation\n",
    "\n",
    "Now that our playground is complete, we can run the simulation until termination of the game.\n",
    "Alternatively, once you are bored, you can terminte the game by pressing q.\n"
   ]
  },
  {
   "cell_type": "code",
   "execution_count": 6,
   "metadata": {},
   "outputs": [],
   "source": [
    "engine.run(with_screen=True)\n",
    "engine.terminate()"
   ]
  }
 ],
 "metadata": {
  "kernelspec": {
   "display_name": "Python 2",
   "language": "python",
   "name": "python2"
  },
  "language_info": {
   "codemirror_mode": {
    "name": "ipython",
    "version": 2
   },
   "file_extension": ".py",
   "mimetype": "text/x-python",
   "name": "python",
   "nbconvert_exporter": "python",
   "pygments_lexer": "ipython2",
   "version": "2.7.6"
  }
 },
 "nbformat": 4,
 "nbformat_minor": 0
}
