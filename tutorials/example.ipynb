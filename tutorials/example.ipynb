{
  "nbformat": 4,
  "nbformat_minor": 0,
  "metadata": {
    "kernelspec": {
      "name": "python3",
      "display_name": "Python 3"
    },
    "colab": {
      "name": "example.ipynb",
      "provenance": []
    }
  },
  "cells": [
    {
      "cell_type": "code",
      "metadata": {
        "id": "DD2fAjBEVLV1",
        "colab_type": "code",
        "colab": {
          "base_uri": "https://localhost:8080/",
          "height": 323
        },
        "outputId": "59a8b29d-fe68-433c-d43d-3f290a7577a8"
      },
      "source": [
        "!pip3 install --upgrade pyyaml\n"
      ],
      "execution_count": 11,
      "outputs": [
        {
          "output_type": "stream",
          "text": [
            "Collecting pyyaml\n",
            "\u001b[?25l  Downloading https://files.pythonhosted.org/packages/64/c2/b80047c7ac2478f9501676c988a5411ed5572f35d1beff9cae07d321512c/PyYAML-5.3.1.tar.gz (269kB)\n",
            "\r\u001b[K     |█▏                              | 10kB 15.8MB/s eta 0:00:01\r\u001b[K     |██▍                             | 20kB 3.2MB/s eta 0:00:01\r\u001b[K     |███▋                            | 30kB 4.2MB/s eta 0:00:01\r\u001b[K     |████▉                           | 40kB 4.4MB/s eta 0:00:01\r\u001b[K     |██████                          | 51kB 3.6MB/s eta 0:00:01\r\u001b[K     |███████▎                        | 61kB 4.0MB/s eta 0:00:01\r\u001b[K     |████████▌                       | 71kB 4.2MB/s eta 0:00:01\r\u001b[K     |█████████▊                      | 81kB 4.5MB/s eta 0:00:01\r\u001b[K     |███████████                     | 92kB 4.8MB/s eta 0:00:01\r\u001b[K     |████████████▏                   | 102kB 4.7MB/s eta 0:00:01\r\u001b[K     |█████████████▍                  | 112kB 4.7MB/s eta 0:00:01\r\u001b[K     |██████████████▋                 | 122kB 4.7MB/s eta 0:00:01\r\u001b[K     |███████████████▉                | 133kB 4.7MB/s eta 0:00:01\r\u001b[K     |█████████████████               | 143kB 4.7MB/s eta 0:00:01\r\u001b[K     |██████████████████▎             | 153kB 4.7MB/s eta 0:00:01\r\u001b[K     |███████████████████▌            | 163kB 4.7MB/s eta 0:00:01\r\u001b[K     |████████████████████▊           | 174kB 4.7MB/s eta 0:00:01\r\u001b[K     |██████████████████████          | 184kB 4.7MB/s eta 0:00:01\r\u001b[K     |███████████████████████▏        | 194kB 4.7MB/s eta 0:00:01\r\u001b[K     |████████████████████████▎       | 204kB 4.7MB/s eta 0:00:01\r\u001b[K     |█████████████████████████▌      | 215kB 4.7MB/s eta 0:00:01\r\u001b[K     |██████████████████████████▊     | 225kB 4.7MB/s eta 0:00:01\r\u001b[K     |████████████████████████████    | 235kB 4.7MB/s eta 0:00:01\r\u001b[K     |█████████████████████████████▏  | 245kB 4.7MB/s eta 0:00:01\r\u001b[K     |██████████████████████████████▍ | 256kB 4.7MB/s eta 0:00:01\r\u001b[K     |███████████████████████████████▋| 266kB 4.7MB/s eta 0:00:01\r\u001b[K     |████████████████████████████████| 276kB 4.7MB/s \n",
            "\u001b[?25hBuilding wheels for collected packages: pyyaml\n",
            "  Building wheel for pyyaml (setup.py) ... \u001b[?25l\u001b[?25hdone\n",
            "  Created wheel for pyyaml: filename=PyYAML-5.3.1-cp36-cp36m-linux_x86_64.whl size=44621 sha256=56599d46db075239d9c911cf1da7091c55436e705e312ae186444edc03dac8da\n",
            "  Stored in directory: /root/.cache/pip/wheels/a7/c1/ea/cf5bd31012e735dc1dfea3131a2d5eae7978b251083d6247bd\n",
            "Successfully built pyyaml\n",
            "Installing collected packages: pyyaml\n",
            "  Found existing installation: PyYAML 3.13\n",
            "    Uninstalling PyYAML-3.13:\n",
            "      Successfully uninstalled PyYAML-3.13\n",
            "Successfully installed pyyaml-5.3.1\n"
          ],
          "name": "stdout"
        },
        {
          "output_type": "display_data",
          "data": {
            "application/vnd.colab-display-data+json": {
              "pip_warning": {
                "packages": [
                  "yaml"
                ]
              }
            }
          },
          "metadata": {
            "tags": []
          }
        }
      ]
    },
    {
      "cell_type": "code",
      "metadata": {
        "id": "DXfHMblRViQH",
        "colab_type": "code",
        "colab": {}
      },
      "source": [
        "from simple_playgrounds.entities.agents import BaseInteractiveAgent\n",
        "from simple_playgrounds.entities.agents.sensors.visual_sensors import RgbSensor\n",
        "from simple_playgrounds.controllers import Random\n",
        "from simple_playgrounds.playgrounds.collection.test import Interactives\n",
        "from simple_playgrounds import Engine\n",
        "\n",
        "\n",
        "%matplotlib inline\n",
        "import matplotlib.pyplot as plt"
      ],
      "execution_count": 14,
      "outputs": []
    },
    {
      "cell_type": "code",
      "metadata": {
        "id": "oonufJfHV8nN",
        "colab_type": "code",
        "colab": {}
      },
      "source": [
        "my_agent = BaseInteractiveAgent(name = 'mercotte', controller=Random())\n",
        "my_agent.add_sensor(RgbSensor(name='rgb_1', anchor= my_agent.base_platform, invisible_elements=my_agent.parts, resolution=128, range=300))"
      ],
      "execution_count": 8,
      "outputs": []
    },
    {
      "cell_type": "code",
      "metadata": {
        "id": "1EWKJnz6WdRN",
        "colab_type": "code",
        "colab": {}
      },
      "source": [
        "playground = Interactives()"
      ],
      "execution_count": 9,
      "outputs": []
    },
    {
      "cell_type": "code",
      "metadata": {
        "id": "2v__Gx9IW16K",
        "colab_type": "code",
        "colab": {}
      },
      "source": [
        "game = Engine(playground=playground, agents=my_agent, time_limit=100000, replay=True, screen=False)"
      ],
      "execution_count": 10,
      "outputs": []
    },
    {
      "cell_type": "code",
      "metadata": {
        "id": "qj2XL72dW7W0",
        "colab_type": "code",
        "colab": {
          "base_uri": "https://localhost:8080/",
          "height": 269
        },
        "outputId": "e3ccc804-57d1-409e-c34e-f8ba44097b7a"
      },
      "source": [
        "fig, (ax1, ax2) = plt.subplots(1, 2)\n"
      ],
      "execution_count": 11,
      "outputs": [
        {
          "output_type": "display_data",
          "data": {
            "image/png": "[encoded data removed]",
            "text/plain": [
              "<Figure size 432x288 with 2 Axes>"
            ]
          },
          "metadata": {
            "tags": [],
            "needs_background": "light"
          }
        }
      ]
    },
    {
      "cell_type": "code",
      "metadata": {
        "id": "-R5GycOUXulf",
        "colab_type": "code",
        "colab": {
          "base_uri": "https://localhost:8080/",
          "height": 374
        },
        "outputId": "6af86a3f-4404-4b82-bbf1-d5f9d13b1e23"
      },
      "source": [
        "import time\n",
        "\n",
        "while game.game_on:\n",
        "\n",
        "    actions = {}\n",
        "    for agent in game.agents:\n",
        "        actions[agent.name] = agent.controller.generate_actions()\n",
        "\n",
        "    game.step(actions)\n",
        "    game.update_observations()\n",
        "\n",
        "    img = game.generate_sensor_image(my_agent)\n",
        "    ax1.imshow(img)\n",
        "    \n",
        "    if my_agent.reward != 0: print(my_agent.name, my_agent.reward)\n",
        "\n",
        "    img = game.generate_topdown_image()\n",
        "    ax2.imshow(img)\n",
        "    plt.show()\n",
        "    time.sleep(0.01)\n",
        "    "
      ],
      "execution_count": 13,
      "outputs": [
        {
          "output_type": "error",
          "ename": "KeyboardInterrupt",
          "evalue": "ignored",
          "traceback": [
            "\u001b[0;31m---------------------------------------------------------------------------\u001b[0m",
            "\u001b[0;31mKeyboardInterrupt\u001b[0m                         Traceback (most recent call last)",
            "\u001b[0;32m<ipython-input-13-217f174cbdde>\u001b[0m in \u001b[0;36m<module>\u001b[0;34m()\u001b[0m\n\u001b[1;32m      8\u001b[0m \u001b[0;34m\u001b[0m\u001b[0m\n\u001b[1;32m      9\u001b[0m     \u001b[0mgame\u001b[0m\u001b[0;34m.\u001b[0m\u001b[0mstep\u001b[0m\u001b[0;34m(\u001b[0m\u001b[0mactions\u001b[0m\u001b[0;34m)\u001b[0m\u001b[0;34m\u001b[0m\u001b[0;34m\u001b[0m\u001b[0m\n\u001b[0;32m---> 10\u001b[0;31m     \u001b[0mgame\u001b[0m\u001b[0;34m.\u001b[0m\u001b[0mupdate_observations\u001b[0m\u001b[0;34m(\u001b[0m\u001b[0;34m)\u001b[0m\u001b[0;34m\u001b[0m\u001b[0;34m\u001b[0m\u001b[0m\n\u001b[0m\u001b[1;32m     11\u001b[0m \u001b[0;34m\u001b[0m\u001b[0m\n\u001b[1;32m     12\u001b[0m     \u001b[0mimg\u001b[0m \u001b[0;34m=\u001b[0m \u001b[0mgame\u001b[0m\u001b[0;34m.\u001b[0m\u001b[0mgenerate_sensor_image\u001b[0m\u001b[0;34m(\u001b[0m\u001b[0mmy_agent\u001b[0m\u001b[0;34m)\u001b[0m\u001b[0;34m\u001b[0m\u001b[0;34m\u001b[0m\u001b[0m\n",
            "\u001b[0;32m/usr/local/lib/python3.6/dist-packages/simple_playgrounds/game_engine.py\u001b[0m in \u001b[0;36mupdate_observations\u001b[0;34m(self)\u001b[0m\n\u001b[1;32m    246\u001b[0m                     \u001b[0mimg_sensor\u001b[0m \u001b[0;34m=\u001b[0m \u001b[0mimg_sensor\u001b[0m\u001b[0;34m[\u001b[0m\u001b[0;34m:\u001b[0m\u001b[0;34m:\u001b[0m\u001b[0;34m-\u001b[0m\u001b[0;36m1\u001b[0m\u001b[0;34m,\u001b[0m \u001b[0;34m:\u001b[0m\u001b[0;34m,\u001b[0m \u001b[0;34m:\u001b[0m\u001b[0;34m:\u001b[0m\u001b[0;34m-\u001b[0m\u001b[0;36m1\u001b[0m\u001b[0;34m]\u001b[0m\u001b[0;34m\u001b[0m\u001b[0;34m\u001b[0m\u001b[0m\n\u001b[1;32m    247\u001b[0m \u001b[0;34m\u001b[0m\u001b[0m\n\u001b[0;32m--> 248\u001b[0;31m                     \u001b[0msensor\u001b[0m\u001b[0;34m.\u001b[0m\u001b[0mupdate_sensor\u001b[0m\u001b[0;34m(\u001b[0m\u001b[0mimg_sensor\u001b[0m\u001b[0;34m)\u001b[0m\u001b[0;34m\u001b[0m\u001b[0;34m\u001b[0m\u001b[0m\n\u001b[0m\u001b[1;32m    249\u001b[0m \u001b[0;34m\u001b[0m\u001b[0m\n\u001b[1;32m    250\u001b[0m                 \u001b[0;32melif\u001b[0m \u001b[0msensor\u001b[0m\u001b[0;34m.\u001b[0m\u001b[0msensor_modality\u001b[0m \u001b[0;32mis\u001b[0m \u001b[0mSensorModality\u001b[0m\u001b[0;34m.\u001b[0m\u001b[0mSEMANTIC\u001b[0m\u001b[0;34m:\u001b[0m\u001b[0;34m\u001b[0m\u001b[0;34m\u001b[0m\u001b[0m\n",
            "\u001b[0;32m/usr/local/lib/python3.6/dist-packages/simple_playgrounds/entities/agents/sensors/visual_sensors/collection/vision_sensor.py\u001b[0m in \u001b[0;36mupdate_sensor\u001b[0;34m(self, img)\u001b[0m\n\u001b[1;32m     25\u001b[0m     \u001b[0;32mdef\u001b[0m \u001b[0mupdate_sensor\u001b[0m\u001b[0;34m(\u001b[0m\u001b[0mself\u001b[0m\u001b[0;34m,\u001b[0m \u001b[0mimg\u001b[0m\u001b[0;34m)\u001b[0m\u001b[0;34m:\u001b[0m\u001b[0;34m\u001b[0m\u001b[0;34m\u001b[0m\u001b[0m\n\u001b[1;32m     26\u001b[0m \u001b[0;34m\u001b[0m\u001b[0m\n\u001b[0;32m---> 27\u001b[0;31m         \u001b[0msuper\u001b[0m\u001b[0;34m(\u001b[0m\u001b[0;34m)\u001b[0m\u001b[0;34m.\u001b[0m\u001b[0mupdate_sensor\u001b[0m\u001b[0;34m(\u001b[0m\u001b[0mimg\u001b[0m\u001b[0;34m)\u001b[0m\u001b[0;34m\u001b[0m\u001b[0;34m\u001b[0m\u001b[0m\n\u001b[0m\u001b[1;32m     28\u001b[0m \u001b[0;34m\u001b[0m\u001b[0m\n\u001b[1;32m     29\u001b[0m         \u001b[0;31m# Get value sensor\u001b[0m\u001b[0;34m\u001b[0m\u001b[0;34m\u001b[0m\u001b[0;34m\u001b[0m\u001b[0m\n",
            "\u001b[0;32m/usr/local/lib/python3.6/dist-packages/simple_playgrounds/entities/agents/sensors/visual_sensors/visual_sensor.py\u001b[0m in \u001b[0;36mupdate_sensor\u001b[0;34m(self, img)\u001b[0m\n\u001b[1;32m    132\u001b[0m         polar_img = cv2.linearPolar(scaled_img, self._center,\n\u001b[1;32m    133\u001b[0m                                     \u001b[0mself\u001b[0m\u001b[0;34m.\u001b[0m\u001b[0m_range\u001b[0m \u001b[0;34m*\u001b[0m \u001b[0mself\u001b[0m\u001b[0;34m.\u001b[0m\u001b[0m_scale_ratio\u001b[0m\u001b[0;34m,\u001b[0m\u001b[0;34m\u001b[0m\u001b[0;34m\u001b[0m\u001b[0m\n\u001b[0;32m--> 134\u001b[0;31m                                     flags=cv2.INTER_NEAREST+cv2.WARP_FILL_OUTLIERS)\n\u001b[0m\u001b[1;32m    135\u001b[0m \u001b[0;34m\u001b[0m\u001b[0m\n\u001b[1;32m    136\u001b[0m         \u001b[0mangle_center\u001b[0m \u001b[0;34m=\u001b[0m \u001b[0mscaled_img\u001b[0m\u001b[0;34m.\u001b[0m\u001b[0mshape\u001b[0m\u001b[0;34m[\u001b[0m\u001b[0;36m0\u001b[0m\u001b[0;34m]\u001b[0m \u001b[0;34m*\u001b[0m \u001b[0;34m(\u001b[0m\u001b[0msensor_angle\u001b[0m \u001b[0;34m%\u001b[0m \u001b[0;34m(\u001b[0m\u001b[0;36m2\u001b[0m \u001b[0;34m*\u001b[0m \u001b[0mmath\u001b[0m\u001b[0;34m.\u001b[0m\u001b[0mpi\u001b[0m\u001b[0;34m)\u001b[0m\u001b[0;34m)\u001b[0m \u001b[0;34m/\u001b[0m \u001b[0;34m(\u001b[0m\u001b[0;36m2\u001b[0m \u001b[0;34m*\u001b[0m \u001b[0mmath\u001b[0m\u001b[0;34m.\u001b[0m\u001b[0mpi\u001b[0m\u001b[0;34m)\u001b[0m\u001b[0;34m\u001b[0m\u001b[0;34m\u001b[0m\u001b[0m\n",
            "\u001b[0;31mKeyboardInterrupt\u001b[0m: "
          ]
        }
      ]
    },
    {
      "cell_type": "code",
      "metadata": {
        "id": "YackhKk3X7f0",
        "colab_type": "code",
        "colab": {}
      },
      "source": [
        ""
      ],
      "execution_count": null,
      "outputs": []
    }
  ]
}