{
  "nbformat": 4,
  "nbformat_minor": 0,
  "metadata": {
    "kernelspec": {
      "name": "python3",
      "display_name": "Python 3"
    },
    "colab": {
      "name": "example.ipynb",
      "provenance": []
    }
  },
  "cells": [
    {
      "cell_type": "code",
      "metadata": {
        "id": "DXfHMblRViQH",
        "colab_type": "code",
        "colab": {}
      },
      "source": [
        "from simple_playgrounds.entities.agents import BaseInteractiveAgent\n",
        "from simple_playgrounds.entities.agents.sensors.visual_sensors import RgbSensor\n",
        "from simple_playgrounds.controllers import Random\n",
        "from simple_playgrounds.playgrounds.collection.test import Interactives\n",
        "from simple_playgrounds import Engine\n",
        "\n",
        "\n",
        "%matplotlib inline\n",
        "import matplotlib.pyplot as plt"
      ],
      "execution_count": null,
      "outputs": []
    },
    {
      "cell_type": "markdown",
      "metadata": {
        "id": "MRgDVUFtu49n",
        "colab_type": "text"
      },
      "source": [
        "Let's create a very simple random agent, with an RGB sensor."
      ]
    },
    {
      "cell_type": "code",
      "metadata": {
        "id": "oonufJfHV8nN",
        "colab_type": "code",
        "colab": {}
      },
      "source": [
        "my_agent = BaseInteractiveAgent(name = 'mercotte', controller=Random())\n",
        "my_agent.add_sensor(RgbSensor(name='rgb_1', anchor= my_agent.base_platform, invisible_elements=my_agent.parts, resolution=128, range=300))"
      ],
      "execution_count": 4,
      "outputs": []
    },
    {
      "cell_type": "markdown",
      "metadata": {
        "id": "ud9eevm4vB7_",
        "colab_type": "text"
      },
      "source": [
        "We build a playground, and associate it to an engine.\n",
        "Engines run the playgrounds.\n"
      ]
    },
    {
      "cell_type": "code",
      "metadata": {
        "id": "1EWKJnz6WdRN",
        "colab_type": "code",
        "colab": {}
      },
      "source": [
        "playground = Interactives()\n",
        "game = Engine(playground=playground, agents=my_agent, time_limit=100000, replay=True, screen=False)"
      ],
      "execution_count": 5,
      "outputs": []
    },
    {
      "cell_type": "code",
      "metadata": {
        "id": "-R5GycOUXulf",
        "colab_type": "code",
        "colab": {}
      },
      "source": [
        "from IPython.display import display, clear_output\n",
        "fig = plt.figure()\n",
        "ax_1 = fig.add_subplot(1,1,1)\n",
        "\n",
        "while game.game_on:\n",
        "\n",
        "    actions = {}\n",
        "    for agent in game.agents:\n",
        "        actions[agent.name] = agent.controller.generate_actions()\n",
        "\n",
        "    game.step(actions)\n",
        "    game.update_observations()\n",
        "\n",
        "    #img = game.generate_sensor_image(my_agent)\n",
        "    \n",
        "    if my_agent.reward != 0: print(my_agent.name, my_agent.reward)\n",
        "\n",
        "    img = game.generate_topdown_image()[:,:,::-1]\n",
        "    #ax_1.cla()\n",
        "    ax_1.imshow(img)\n",
        "    display(fig)\n",
        "    clear_output(wait=True)\n",
        "    "
      ],
      "execution_count": null,
      "outputs": []
    },
    {
      "cell_type": "code",
      "metadata": {
        "id": "YackhKk3X7f0",
        "colab_type": "code",
        "colab": {}
      },
      "source": [
        ""
      ],
      "execution_count": null,
      "outputs": []
    }
  ]
}